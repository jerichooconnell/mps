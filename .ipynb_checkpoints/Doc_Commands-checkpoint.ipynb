{
 "cells": [
  {
   "cell_type": "code",
   "execution_count": null,
   "metadata": {},
   "outputs": [],
   "source": [
    "#!/usr/bin/env bash\n",
    "# build the docs\n",
    "cd docs\n",
    "make clean\n",
    "make html\n",
    "cd .."
   ]
  },
  {
   "cell_type": "code",
   "execution_count": null,
   "metadata": {},
   "outputs": [],
   "source": [
    "# commit and push\n",
    "git add -A\n",
    "git commit -m \"building and pushing docs\"\n",
    "git push origin master"
   ]
  },
  {
   "cell_type": "code",
   "execution_count": null,
   "metadata": {},
   "outputs": [],
   "source": [
    "# switch branches and pull the data we want\n",
    "git checkout gh-pages\n",
    "rm -rf _sources _static\n",
    "touch .nojekyll\n",
    "git checkout master docs/build/html\n",
    "mv ./docs/build/html/* ./\n",
    "rm -rf ./docs\n",
    "git add -A\n",
    "git commit -m \"publishing updated docs...\"\n",
    "git push origin gh-pages"
   ]
  },
  {
   "cell_type": "code",
   "execution_count": null,
   "metadata": {},
   "outputs": [],
   "source": [
    "# switch back\n",
    "git checkout master"
   ]
  }
 ],
 "metadata": {
  "kernelspec": {
   "display_name": "Bash",
   "language": "bash",
   "name": "bash"
  },
  "language_info": {
   "codemirror_mode": "shell",
   "file_extension": ".sh",
   "mimetype": "text/x-sh",
   "name": "bash"
  }
 },
 "nbformat": 4,
 "nbformat_minor": 2
}
