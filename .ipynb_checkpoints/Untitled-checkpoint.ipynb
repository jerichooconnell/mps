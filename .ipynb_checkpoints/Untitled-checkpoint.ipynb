{
 "cells": [
  {
   "cell_type": "code",
   "execution_count": 5,
   "metadata": {},
   "outputs": [
    {
     "name": "stdout",
     "output_type": "stream",
     "text": [
      "Removing everything under 'build'...\n",
      "Traceback (most recent call last):\n",
      "  File \"/usr/local/bin/sphinx-build\", line 11, in <module>\n",
      "    sys.exit(main())\n",
      "  File \"/usr/local/lib/python3.5/dist-packages/sphinx/__init__.py\", line 69, in main\n",
      "    return make_main(argv)\n",
      "  File \"/usr/local/lib/python3.5/dist-packages/sphinx/__init__.py\", line 119, in make_main\n",
      "    from sphinx import make_mode\n",
      "  File \"/usr/local/lib/python3.5/dist-packages/sphinx/make_mode.py\", line 25, in <module>\n",
      "    from sphinx import cmdline\n",
      "  File \"/usr/local/lib/python3.5/dist-packages/sphinx/cmdline.py\", line 24, in <module>\n",
      "    from sphinx.application import Sphinx\n",
      "  File \"/usr/local/lib/python3.5/dist-packages/sphinx/application.py\", line 33, in <module>\n",
      "    from sphinx.environment import BuildEnvironment\n",
      "  File \"/usr/local/lib/python3.5/dist-packages/sphinx/environment/__init__.py\", line 46, in <module>\n",
      "    from sphinx.util.websupport import is_commentable\n",
      "  File \"/usr/local/lib/python3.5/dist-packages/sphinx/util/websupport.py\", line 11, in <module>\n",
      "    from sphinxcontrib.websupport.utils import is_commentable  # NOQA\n",
      "  File \"/usr/local/lib/python3.5/dist-packages/sphinxcontrib/websupport/__init__.py\", line 15, in <module>\n",
      "    from sphinxcontrib.websupport.core import WebSupport  # NOQA\n",
      "  File \"/usr/local/lib/python3.5/dist-packages/sphinxcontrib/websupport/core.py\", line 17, in <module>\n",
      "    from jinja2 import Environment, FileSystemLoader\n",
      "  File \"/usr/local/lib/python3.5/dist-packages/jinja2/__init__.py\", line 33, in <module>\n",
      "    from jinja2.environment import Environment, Template\n",
      "  File \"/usr/local/lib/python3.5/dist-packages/jinja2/environment.py\", line 22, in <module>\n",
      "    from jinja2.lexer import get_lexer, TokenStream\n",
      "  File \"/usr/local/lib/python3.5/dist-packages/jinja2/lexer.py\", line 57, in <module>\n",
      "    name_re = _make_name_re()\n",
      "  File \"/usr/local/lib/python3.5/dist-packages/jinja2/lexer.py\", line 46, in _make_name_re\n",
      "    _stringdefs.xid_continue))\n",
      "  File \"/usr/lib/python3.5/re.py\", line 224, in compile\n",
      "    return _compile(pattern, flags)\n",
      "  File \"/usr/lib/python3.5/re.py\", line 293, in _compile\n",
      "    p = sre_compile.compile(pattern, flags)\n",
      "  File \"/usr/lib/python3.5/sre_compile.py\", line 536, in compile\n",
      "    p = sre_parse.parse(p, flags)\n",
      "  File \"/usr/lib/python3.5/sre_parse.py\", line 829, in parse\n",
      "    p = _parse_sub(source, pattern, 0)\n",
      "  File \"/usr/lib/python3.5/sre_parse.py\", line 437, in _parse_sub\n",
      "    itemsappend(_parse(source, state))\n",
      "  File \"/usr/lib/python3.5/sre_parse.py\", line 543, in _parse\n",
      "    if this is None:\n",
      "KeyboardInterrupt\n",
      "Makefile:20: recipe for target 'html' failed\n",
      "make: *** [html] Interrupt\n",
      "\n"
     ]
    }
   ],
   "source": [
    "#!/usr/bin/env bash\n",
    "# build the docs\n",
    "cd docs\n",
    "make clean\n",
    "make html\n",
    "cd .."
   ]
  },
  {
   "cell_type": "code",
   "execution_count": 4,
   "metadata": {},
   "outputs": [
    {
     "name": "stdout",
     "output_type": "stream",
     "text": [
      "[master c37dc77] building and pushing docs\n",
      " 1 file changed, 310 insertions(+), 2 deletions(-)\n",
      "Username for 'https://github.com': \n"
     ]
    }
   ],
   "source": [
    "# commit and push\n",
    "git add -A\n",
    "git commit -m \"building and pushing docs\"\n",
    "git push origin master\n"
   ]
  },
  {
   "cell_type": "code",
   "execution_count": 3,
   "metadata": {},
   "outputs": [
    {
     "name": "stdout",
     "output_type": "stream",
     "text": [
      "bash: jerichooconnell: command not found\n",
      "bash: J3richo31415: command not found\n"
     ]
    },
    {
     "ename": "",
     "evalue": "127",
     "output_type": "error",
     "traceback": []
    }
   ],
   "source": []
  },
  {
   "cell_type": "code",
   "execution_count": null,
   "metadata": {},
   "outputs": [],
   "source": [
    "# switch branches and pull the data we want\n",
    "git checkout gh-pages\n",
    "rm -rf _source _static\n",
    "touch .nojekyll\n",
    "git checkout master docs/build/html\n",
    "mv ./docs/build/html/* ./\n",
    "rm -rf ./docs\n",
    "git add -A\n",
    "git commit -m \"publishing updated docs...\"\n",
    "git push origin gh-pages"
   ]
  },
  {
   "cell_type": "code",
   "execution_count": null,
   "metadata": {},
   "outputs": [],
   "source": [
    "# switch back\n",
    "git checkout master"
   ]
  }
 ],
 "metadata": {
  "kernelspec": {
   "display_name": "Bash",
   "language": "bash",
   "name": "bash"
  },
  "language_info": {
   "codemirror_mode": "shell",
   "file_extension": ".sh",
   "mimetype": "text/x-sh",
   "name": "bash"
  }
 },
 "nbformat": 4,
 "nbformat_minor": 2
}
